{
 "cells": [
  {
   "cell_type": "markdown",
   "id": "339a9054",
   "metadata": {},
   "source": [
    "# Name : Shrook Ehab Attia\n",
    "# Group 1 - AI - Nasr City\n",
    "# PSFML Homework 3&4&5"
   ]
  },
  {
   "cell_type": "markdown",
   "id": "3b1f9b9e",
   "metadata": {},
   "source": [
    "### 1. Your data table rows represent 1000 different clients picked at random and are independent"
   ]
  },
  {
   "cell_type": "code",
   "execution_count": 23,
   "id": "7d815122",
   "metadata": {},
   "outputs": [],
   "source": [
    "sample = 1000 # number of random variables"
   ]
  },
  {
   "cell_type": "markdown",
   "id": "3c9953c1",
   "metadata": {},
   "source": [
    "### 3. The marital status (M) is either Married (1) or Others (0). “Others” may represent singles, widows and divorced. Construct 1000 samples with probability of being married = 0.6 [Hint: n=1]"
   ]
  },
  {
   "cell_type": "markdown",
   "id": "3da6f71f",
   "metadata": {},
   "source": [
    "##### using scipy"
   ]
  },
  {
   "cell_type": "code",
   "execution_count": 24,
   "id": "f3c6077b",
   "metadata": {},
   "outputs": [
    {
     "name": "stdout",
     "output_type": "stream",
     "text": [
      "[1 0 1 1 1 1 1 1 1 1 0 1 0 1 1 0 0 0 0 1]\n"
     ]
    }
   ],
   "source": [
    "from scipy.stats import binom\n",
    "\n",
    "M = binom.rvs(n=1,p=0.6,size=1000)\n",
    "print(M[0:20])"
   ]
  },
  {
   "cell_type": "markdown",
   "id": "e6302363",
   "metadata": {},
   "source": [
    "##### using numpy"
   ]
  },
  {
   "cell_type": "code",
   "execution_count": 25,
   "id": "3f1a8783",
   "metadata": {},
   "outputs": [
    {
     "name": "stdout",
     "output_type": "stream",
     "text": [
      "[1 1 1 1 0 1 1 1 1 0 0 1 1 1 1 1 0 1 0 1]\n"
     ]
    }
   ],
   "source": [
    "import numpy as np\n",
    "\n",
    "n = 1\n",
    "p = 0.6\n",
    "sample = 1000\n",
    "M = np.random.binomial(n, p, sample) \n",
    "print(M[0:20])"
   ]
  },
  {
   "cell_type": "markdown",
   "id": "ce05f5e3",
   "metadata": {},
   "source": [
    "### 4. The No. of dependents (ND) like children, spouse, parents, in-laws, etc. whom the client might need to finance yearly over the duration of the loan. Construct 1000 samples with average ND is 2. [Hint: lambda=2]"
   ]
  },
  {
   "cell_type": "markdown",
   "id": "c6385415",
   "metadata": {},
   "source": [
    "##### using scipy"
   ]
  },
  {
   "cell_type": "code",
   "execution_count": 26,
   "id": "2cf1b2d2",
   "metadata": {},
   "outputs": [
    {
     "name": "stdout",
     "output_type": "stream",
     "text": [
      "[2 1 2 5 3 1 3 3 2 3 7 4 5 3 1 1 6 1 3 2]\n"
     ]
    }
   ],
   "source": [
    "from scipy.stats import poisson\n",
    "\n",
    "ND = poisson.rvs(mu=2, size=1000)\n",
    "print(ND[0:20])"
   ]
  },
  {
   "cell_type": "markdown",
   "id": "3d30c3b4",
   "metadata": {},
   "source": [
    "##### using numpy"
   ]
  },
  {
   "cell_type": "code",
   "execution_count": 27,
   "id": "0002c906",
   "metadata": {},
   "outputs": [
    {
     "name": "stdout",
     "output_type": "stream",
     "text": [
      "[4 1 0 1 0 2 1 1 3 2 1 3 0 1 3 1 3 1 2 3]\n"
     ]
    }
   ],
   "source": [
    "mu = 2 #average rate \"λ\"\n",
    "ND = np.random.poisson(mu, sample) \n",
    "print(ND[0:20])"
   ]
  },
  {
   "cell_type": "markdown",
   "id": "21fde72f",
   "metadata": {},
   "source": [
    "### 5. The client’s annual income in order of 1k (AI) is supposed to be obeying a normal distribution N(80,400). Construct 1000 samples."
   ]
  },
  {
   "cell_type": "markdown",
   "id": "8368ac4e",
   "metadata": {},
   "source": [
    "##### using scipy"
   ]
  },
  {
   "cell_type": "code",
   "execution_count": 28,
   "id": "94b31ee6",
   "metadata": {},
   "outputs": [
    {
     "name": "stdout",
     "output_type": "stream",
     "text": [
      "[-521.71969057  729.46966081  180.65473367  272.7264862  -378.03794851\n",
      " -171.86158803  -10.34611673  104.99970544  -38.28056744  -71.71826641\n",
      "  -96.87538525  320.07830136   75.36316088  197.46475342  595.40591813\n",
      " -158.45722727   62.60183311 -818.30983765 -690.19513645 -547.06021977]\n"
     ]
    }
   ],
   "source": [
    "from scipy.stats import norm\n",
    "\n",
    "# generate random numbers from N(80,400)\n",
    "AI = norm.rvs(size=sample,loc=80,scale=400)\n",
    "print(AI[0:20])"
   ]
  },
  {
   "cell_type": "markdown",
   "id": "3082755f",
   "metadata": {},
   "source": [
    "##### using numpy"
   ]
  },
  {
   "cell_type": "code",
   "execution_count": 29,
   "id": "3cb5590a",
   "metadata": {},
   "outputs": [
    {
     "name": "stdout",
     "output_type": "stream",
     "text": [
      "[  41.21504503  510.7603335   510.83707721   73.28397162  -92.08120928\n",
      " -361.54577994   11.8079849    -2.81747823 -108.24269168 -216.96894544\n",
      "  185.30980206  560.18546487  480.09504756 -207.7652817  -206.33977301\n",
      "  119.24121701  232.38069536 -390.06168125 -587.95955176  153.29355488]\n"
     ]
    }
   ],
   "source": [
    "# generate random numbers from N(80,400)\n",
    "mean = 80\n",
    "std = 400\n",
    "AI = np.random.normal(mean, std, sample) \n",
    "print(AI[0:20])"
   ]
  },
  {
   "cell_type": "markdown",
   "id": "a72d2e73",
   "metadata": {},
   "source": [
    "### 6. The risk associated to No-cashback (R), is either high (>0.5) or low (<=0.5) and is computed using the following formula: R = 12 * ( ND + 1 ) / AI => Construct 1000 samples."
   ]
  },
  {
   "cell_type": "code",
   "execution_count": 30,
   "id": "b758358d",
   "metadata": {},
   "outputs": [
    {
     "name": "stdout",
     "output_type": "stream",
     "text": [
      "[ 1.45577907  0.04698877  0.02349086  0.32749317 -0.13031975 -0.09957245\n",
      "  2.03252293 -8.51825569 -0.44344795 -0.16592236  0.12951285  0.08568591\n",
      "  0.02499505 -0.11551497 -0.23262602  0.20127269  0.20655761 -0.06152873\n",
      " -0.0612287   0.31312471]\n"
     ]
    },
    {
     "data": {
      "text/plain": [
       "1000"
      ]
     },
     "execution_count": 30,
     "metadata": {},
     "output_type": "execute_result"
    }
   ],
   "source": [
    "R = 12 * ( ND + 1 ) / AI\n",
    "print(R[0:20])\n",
    "len(R)"
   ]
  },
  {
   "cell_type": "markdown",
   "id": "be67860b",
   "metadata": {},
   "source": [
    "### 7. The past experience whether or not the client has had a previous approved loan (HA) is either Yes (=1) or No (=0). Construct a 1000 samples with probability of being cashed a loan = 0.3 [Hint: n=1]"
   ]
  },
  {
   "cell_type": "markdown",
   "id": "88b489b8",
   "metadata": {},
   "source": [
    "##### using scipy"
   ]
  },
  {
   "cell_type": "code",
   "execution_count": 31,
   "id": "dc25fe93",
   "metadata": {},
   "outputs": [
    {
     "name": "stdout",
     "output_type": "stream",
     "text": [
      "[1 0 1 0 0 1 0 1 0 0 0 0 0 1 0 0 0 1 0 0]\n"
     ]
    }
   ],
   "source": [
    "HA = binom.rvs(n=1,p=0.3,size=sample)\n",
    "print(HA[0:20])"
   ]
  },
  {
   "cell_type": "markdown",
   "id": "1ad670e9",
   "metadata": {},
   "source": [
    "##### using numpy"
   ]
  },
  {
   "cell_type": "code",
   "execution_count": 32,
   "id": "2edad557",
   "metadata": {},
   "outputs": [
    {
     "name": "stdout",
     "output_type": "stream",
     "text": [
      "[0 0 0 0 0 0 0 1 0 1 1 1 1 0 0 0 0 0 0 0]\n"
     ]
    }
   ],
   "source": [
    "n = 1\n",
    "p = 0.3\n",
    "HA = np.random.binomial(n, p, sample) \n",
    "print(HA[0:20])"
   ]
  },
  {
   "cell_type": "markdown",
   "id": "4a480c3d",
   "metadata": {},
   "source": [
    "### 8. The amount of previously approved loan (AA) is supposed to be a function of a normal distribution N(100,100). : AA = HA * ( 0.1 * AI + R * N(100,100) ) In other words, if he was cashed a previous loan (HA = 1) he got a legal amount of 10% of his annual income in addition to a percentage of 100k with tolerance, conditioned with his risk factor. Construct 1000 samples."
   ]
  },
  {
   "cell_type": "markdown",
   "id": "cb586f39",
   "metadata": {},
   "source": [
    "##### using scipy"
   ]
  },
  {
   "cell_type": "code",
   "execution_count": 33,
   "id": "32f35fa9",
   "metadata": {},
   "outputs": [
    {
     "name": "stdout",
     "output_type": "stream",
     "text": [
      "[    0.             0.             0.             0.\n",
      "    -0.            -0.             0.         -1640.79530418\n",
      "    -0.           -37.74570868    32.98948279    66.59325802\n",
      "    51.43048635    -0.            -0.            -0.\n",
      "     0.            -0.            -0.             0.        ]\n"
     ]
    }
   ],
   "source": [
    "# generate random numbers from N(100,100)\n",
    "NN = norm.rvs(size=sample,loc=100,scale=100)\n",
    "AA = HA * ( 0.1 * AI + R * NN)\n",
    "print(AA[0:20])"
   ]
  },
  {
   "cell_type": "markdown",
   "id": "76f0551d",
   "metadata": {},
   "source": [
    "##### using numpy"
   ]
  },
  {
   "cell_type": "code",
   "execution_count": 34,
   "id": "7e65f772",
   "metadata": {},
   "outputs": [
    {
     "name": "stdout",
     "output_type": "stream",
     "text": [
      "[   0.            0.            0.            0.           -0.\n",
      "   -0.            0.         -844.05846262   -0.          -38.8646776\n",
      "   16.69984838   74.8171676    53.14208444   -0.           -0.\n",
      "    0.            0.           -0.           -0.            0.        ]\n"
     ]
    }
   ],
   "source": [
    "# generate random numbers from N(100,100)\n",
    "mean = 100\n",
    "std = 100\n",
    "NN = np.random.normal(mean, std, sample) \n",
    "AA = HA * ( 0.1 * AI + R * NN)\n",
    "print(AA[0:20])"
   ]
  },
  {
   "cell_type": "markdown",
   "id": "4d2cb3d4",
   "metadata": {},
   "source": [
    "### 9. The time until he was granted the approval of his previous loan (TA) is exponentially distributed with decay/scale parameter lambda = 2 : TA = HA* Exp(lambda) . Construct 1000 samples."
   ]
  },
  {
   "cell_type": "markdown",
   "id": "269ab41e",
   "metadata": {},
   "source": [
    "##### using scipy"
   ]
  },
  {
   "cell_type": "code",
   "execution_count": 35,
   "id": "9d80bb1f",
   "metadata": {},
   "outputs": [
    {
     "name": "stdout",
     "output_type": "stream",
     "text": [
      "[0.         0.         0.         0.         0.         0.\n",
      " 0.         3.69681801 0.         6.41028228 2.51300358 0.58043281\n",
      " 2.29511779 0.         0.         0.         0.         0.\n",
      " 0.         0.        ]\n"
     ]
    }
   ],
   "source": [
    "from scipy.stats import expon\n",
    "exp = expon.rvs(scale=2,loc=0,size=1000)\n",
    "TA = HA * exp\n",
    "print(TA[0:20])"
   ]
  },
  {
   "cell_type": "markdown",
   "id": "f39f4065",
   "metadata": {},
   "source": [
    "##### using numpy"
   ]
  },
  {
   "cell_type": "code",
   "execution_count": 36,
   "id": "0db35764",
   "metadata": {},
   "outputs": [
    {
     "name": "stdout",
     "output_type": "stream",
     "text": [
      "[0.         0.         0.         0.         0.         0.\n",
      " 0.         1.44666133 0.         1.00403567 0.87309591 2.39613494\n",
      " 3.56807626 0.         0.         0.         0.         0.\n",
      " 0.         0.        ]\n"
     ]
    }
   ],
   "source": [
    "scale = 2\n",
    "exp = np.random.exponential(scale, sample)\n",
    "TA = HA * exp\n",
    "print(TA[0:20])"
   ]
  },
  {
   "cell_type": "markdown",
   "id": "390bcc7b",
   "metadata": {},
   "source": [
    "### 10. The year of last approved loan (YA) is uniformly distributed between 2000-2020. YA = HA* {U(2000,2020)} Construct 1000 samples. [Hint: use x.astype(int) to convert float value to integers]"
   ]
  },
  {
   "cell_type": "markdown",
   "id": "a71b5666",
   "metadata": {},
   "source": [
    "##### using scipy"
   ]
  },
  {
   "cell_type": "code",
   "execution_count": 37,
   "id": "da09f9b2",
   "metadata": {},
   "outputs": [
    {
     "name": "stdout",
     "output_type": "stream",
     "text": [
      "[   0    0    0    0    0    0    0 2014    0 2000 2004 2015 2004    0\n",
      "    0    0    0    0    0    0]\n"
     ]
    }
   ],
   "source": [
    "from scipy.stats import uniform\n",
    "# generate/create random numbers (rvs) from uniform distribution between 2000-2020\n",
    "start = 2000  \n",
    "width = 2020 - 2000 \n",
    "UN = uniform.rvs(size=sample, loc = start, scale=width)\n",
    "YA = HA * UN \n",
    "YA = YA.astype(int) \n",
    "print(YA[0:20])"
   ]
  },
  {
   "cell_type": "markdown",
   "id": "9c9ba7a1",
   "metadata": {},
   "source": [
    "##### using numpy"
   ]
  },
  {
   "cell_type": "code",
   "execution_count": 38,
   "id": "3cc8e741",
   "metadata": {},
   "outputs": [
    {
     "name": "stdout",
     "output_type": "stream",
     "text": [
      "[   0    0    0    0    0    0    0  596    0 1106 1375 1497 1640    0\n",
      "    0    0    0    0    0    0]\n"
     ]
    }
   ],
   "source": [
    "# generate/create random numbers (rvs) from uniform distribution between 2000-2020\n",
    "start = 2000  \n",
    "width = 2020 - 2000 \n",
    "UN = np.random.uniform(start, width, sample)\n",
    "YA = HA * UN \n",
    "YA = YA.astype(int) \n",
    "print(YA[0:20])"
   ]
  },
  {
   "cell_type": "markdown",
   "id": "08b53b45",
   "metadata": {},
   "source": [
    "### 2. Each data sample (i.e. table row) has some attributes with random values (continuous and discrete), namely: \n",
    "#### M = Marital status\n",
    "#### ND = No. of dependents\n",
    "#### AI = Client’s annual income\n",
    "#### R = Risk associated to No-cashback\n",
    "#### HA = Has previous approved loan\n",
    "#### AA = Amount of previously approved loan\n",
    "#### TA = Time until loan is approved\n",
    "#### YA = Year of last approved loan"
   ]
  },
  {
   "cell_type": "code",
   "execution_count": 39,
   "id": "8e27fb05",
   "metadata": {},
   "outputs": [
    {
     "data": {
      "text/html": [
       "<div>\n",
       "<style scoped>\n",
       "    .dataframe tbody tr th:only-of-type {\n",
       "        vertical-align: middle;\n",
       "    }\n",
       "\n",
       "    .dataframe tbody tr th {\n",
       "        vertical-align: top;\n",
       "    }\n",
       "\n",
       "    .dataframe thead th {\n",
       "        text-align: right;\n",
       "    }\n",
       "</style>\n",
       "<table border=\"1\" class=\"dataframe\">\n",
       "  <thead>\n",
       "    <tr style=\"text-align: right;\">\n",
       "      <th></th>\n",
       "      <th>Marital status(M)</th>\n",
       "      <th>No. of dependents(ND)</th>\n",
       "      <th>Annual income(AI)</th>\n",
       "      <th>Risk(R)</th>\n",
       "      <th>Has prev.approved loan(HA)</th>\n",
       "      <th>Amount of prev.approved loan(AA)</th>\n",
       "      <th>Time until loan is approved(TA)</th>\n",
       "      <th>Year of last approved loan(YA)</th>\n",
       "    </tr>\n",
       "  </thead>\n",
       "  <tbody>\n",
       "    <tr>\n",
       "      <th>0</th>\n",
       "      <td>1</td>\n",
       "      <td>4</td>\n",
       "      <td>41.215045</td>\n",
       "      <td>1.455779</td>\n",
       "      <td>0</td>\n",
       "      <td>0.0</td>\n",
       "      <td>0.0</td>\n",
       "      <td>0</td>\n",
       "    </tr>\n",
       "    <tr>\n",
       "      <th>1</th>\n",
       "      <td>1</td>\n",
       "      <td>1</td>\n",
       "      <td>510.760334</td>\n",
       "      <td>0.046989</td>\n",
       "      <td>0</td>\n",
       "      <td>0.0</td>\n",
       "      <td>0.0</td>\n",
       "      <td>0</td>\n",
       "    </tr>\n",
       "    <tr>\n",
       "      <th>2</th>\n",
       "      <td>1</td>\n",
       "      <td>0</td>\n",
       "      <td>510.837077</td>\n",
       "      <td>0.023491</td>\n",
       "      <td>0</td>\n",
       "      <td>0.0</td>\n",
       "      <td>0.0</td>\n",
       "      <td>0</td>\n",
       "    </tr>\n",
       "    <tr>\n",
       "      <th>3</th>\n",
       "      <td>1</td>\n",
       "      <td>1</td>\n",
       "      <td>73.283972</td>\n",
       "      <td>0.327493</td>\n",
       "      <td>0</td>\n",
       "      <td>0.0</td>\n",
       "      <td>0.0</td>\n",
       "      <td>0</td>\n",
       "    </tr>\n",
       "    <tr>\n",
       "      <th>4</th>\n",
       "      <td>0</td>\n",
       "      <td>0</td>\n",
       "      <td>-92.081209</td>\n",
       "      <td>-0.130320</td>\n",
       "      <td>0</td>\n",
       "      <td>-0.0</td>\n",
       "      <td>0.0</td>\n",
       "      <td>0</td>\n",
       "    </tr>\n",
       "  </tbody>\n",
       "</table>\n",
       "</div>"
      ],
      "text/plain": [
       "   Marital status(M)  No. of dependents(ND)  Annual income(AI)   Risk(R)  \\\n",
       "0                  1                      4          41.215045  1.455779   \n",
       "1                  1                      1         510.760334  0.046989   \n",
       "2                  1                      0         510.837077  0.023491   \n",
       "3                  1                      1          73.283972  0.327493   \n",
       "4                  0                      0         -92.081209 -0.130320   \n",
       "\n",
       "   Has prev.approved loan(HA)  Amount of prev.approved loan(AA)  \\\n",
       "0                           0                               0.0   \n",
       "1                           0                               0.0   \n",
       "2                           0                               0.0   \n",
       "3                           0                               0.0   \n",
       "4                           0                              -0.0   \n",
       "\n",
       "   Time until loan is approved(TA)  Year of last approved loan(YA)  \n",
       "0                              0.0                               0  \n",
       "1                              0.0                               0  \n",
       "2                              0.0                               0  \n",
       "3                              0.0                               0  \n",
       "4                              0.0                               0  "
      ]
     },
     "execution_count": 39,
     "metadata": {},
     "output_type": "execute_result"
    }
   ],
   "source": [
    "import pandas as pd\n",
    "\n",
    "cols = {'Marital status(M)':M, 'No. of dependents(ND)':ND, 'Annual income(AI)':AI, 'Risk(R)':R, 'Has prev.approved loan(HA)':HA, 'Amount of prev.approved loan(AA)':AA, 'Time until loan is approved(TA)':TA, 'Year of last approved loan(YA)':YA}\n",
    "data = pd.DataFrame(cols)\n",
    "data.head()"
   ]
  },
  {
   "cell_type": "markdown",
   "id": "e2e53714",
   "metadata": {},
   "source": [
    "### Using the table columns (Arrays) you created compute the following:\n",
    "#### a. Probability to get a loan application by an unmarried client with 2 parent dependents"
   ]
  },
  {
   "cell_type": "code",
   "execution_count": 40,
   "id": "3c9094ec",
   "metadata": {},
   "outputs": [
    {
     "name": "stdout",
     "output_type": "stream",
     "text": [
      "probability is:  0.12\n"
     ]
    }
   ],
   "source": [
    "trueRows = data[(data['Marital status(M)'] == 0) & (data['No. of dependents(ND)'] == 2)]\n",
    "print(\"probability is: \", len(trueRows)/sample)"
   ]
  },
  {
   "cell_type": "markdown",
   "id": "b94852eb",
   "metadata": {},
   "source": [
    "#### b. Probability that a loan application will take more than 5 months to get approved"
   ]
  },
  {
   "cell_type": "code",
   "execution_count": 41,
   "id": "ab9872d9",
   "metadata": {},
   "outputs": [
    {
     "name": "stdout",
     "output_type": "stream",
     "text": [
      "probability is:  0.025\n"
     ]
    }
   ],
   "source": [
    "trueRows = data[data['Time until loan is approved(TA)'] > 5]\n",
    "print(\"probability is: \", len(trueRows)/sample)"
   ]
  },
  {
   "cell_type": "markdown",
   "id": "ff73f79b",
   "metadata": {},
   "source": [
    "#### c. Probability that a loan less than 100k will be approved to a client given that he has been cashed a previous loan?"
   ]
  },
  {
   "cell_type": "code",
   "execution_count": 42,
   "id": "0ff3a71c",
   "metadata": {},
   "outputs": [
    {
     "name": "stdout",
     "output_type": "stream",
     "text": [
      "probability is:  0.274\n"
     ]
    }
   ],
   "source": [
    "probLoan = len(data['Has prev.approved loan(HA)']) / sample\n",
    "trueRows = len(data[(data['Amount of prev.approved loan(AA)'] < 100) & (data['Has prev.approved loan(HA)'] == 1)]) /sample\n",
    "print(\"probability is: \", trueRows / probLoan)"
   ]
  },
  {
   "cell_type": "markdown",
   "id": "5f18512e",
   "metadata": {},
   "source": [
    "#### d. Describe the correlation between the no. of dependents (ND) and the risk factor (R)"
   ]
  },
  {
   "cell_type": "code",
   "execution_count": 47,
   "id": "034d5275",
   "metadata": {},
   "outputs": [
    {
     "name": "stdout",
     "output_type": "stream",
     "text": [
      "correlation between ND and R is:  -0.00028280730926121537\n",
      "This correlation is weak as it is < 0.3 which means they are nearly independent or have no linear relation\n"
     ]
    }
   ],
   "source": [
    "correlation = data['No. of dependents(ND)'].corr(data['Risk(R)'])\n",
    "print(\"correlation between ND and R is: \", correlation)\n",
    "print(\"This correlation is weak as it is < 0.3 which means they are nearly independent or have no linear relation\")"
   ]
  },
  {
   "cell_type": "markdown",
   "id": "8fed73cf",
   "metadata": {},
   "source": [
    "#### e. Describe the correlation between the annual income (AI) and the risk factor (R)"
   ]
  },
  {
   "cell_type": "code",
   "execution_count": 48,
   "id": "821371dc",
   "metadata": {},
   "outputs": [
    {
     "name": "stdout",
     "output_type": "stream",
     "text": [
      "correlation is:  0.01030841160501198\n",
      "This correlation is weak as it is < 0.3 which means they are nearly independent or have no linear relation\n"
     ]
    }
   ],
   "source": [
    "correlation = data['Annual income(AI)'].corr(data['Risk(R)'])\n",
    "print(\"correlation is: \", correlation)\n",
    "print(\"This correlation is weak as it is < 0.3 which means they are nearly independent or have no linear relation\")"
   ]
  },
  {
   "cell_type": "code",
   "execution_count": null,
   "id": "9118a7fa",
   "metadata": {},
   "outputs": [],
   "source": []
  }
 ],
 "metadata": {
  "kernelspec": {
   "display_name": "Python 3 (ipykernel)",
   "language": "python",
   "name": "python3"
  },
  "language_info": {
   "codemirror_mode": {
    "name": "ipython",
    "version": 3
   },
   "file_extension": ".py",
   "mimetype": "text/x-python",
   "name": "python",
   "nbconvert_exporter": "python",
   "pygments_lexer": "ipython3",
   "version": "3.7.3"
  }
 },
 "nbformat": 4,
 "nbformat_minor": 5
}
